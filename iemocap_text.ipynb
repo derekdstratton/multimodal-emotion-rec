{
 "cells": [
  {
   "cell_type": "code",
   "execution_count": 1,
   "metadata": {
    "collapsed": true
   },
   "outputs": [],
   "source": [
    "import numpy as np\n",
    "# https://github.com/Samarth-Tripathi/IEMOCAP-Emotion-Detection/blob/master/code/python_files/helper.py\n",
    "def get_transcriptions(path_to_transcriptions):\n",
    "    f = open(path_to_transcriptions, 'r').read()\n",
    "    f = np.array(f.split('\\n'))\n",
    "    transcription = {}\n",
    "    for i in range(len(f) - 1):\n",
    "        g = f[i]\n",
    "        i1 = g.find(': ')\n",
    "        i0 = g.find(' [')\n",
    "        ind_id = g[:i0]\n",
    "        ind_ts = g[i1+2:]\n",
    "        transcription[ind_id] = ind_ts\n",
    "    return transcription"
   ]
  },
  {
   "cell_type": "code",
   "execution_count": 2,
   "outputs": [],
   "source": [
    "path_to_transcriptions = '/home/dstratton/IEMOCAP_full_release/Session1/dialog/transcriptions/Ses01F_impro01.txt'\n",
    "\n",
    "tra = get_transcriptions(path_to_transcriptions)\n",
    "# i think you can just glob all txt files from here"
   ],
   "metadata": {
    "collapsed": false,
    "pycharm": {
     "name": "#%%\n"
    }
   }
  }
 ],
 "metadata": {
  "kernelspec": {
   "display_name": "Python 3",
   "language": "python",
   "name": "python3"
  },
  "language_info": {
   "codemirror_mode": {
    "name": "ipython",
    "version": 2
   },
   "file_extension": ".py",
   "mimetype": "text/x-python",
   "name": "python",
   "nbconvert_exporter": "python",
   "pygments_lexer": "ipython2",
   "version": "2.7.6"
  }
 },
 "nbformat": 4,
 "nbformat_minor": 0
}