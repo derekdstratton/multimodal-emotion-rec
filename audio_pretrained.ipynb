{
 "cells": [
  {
   "cell_type": "code",
   "execution_count": null,
   "outputs": [],
   "source": [
    "# pretrained\n",
    "import transformers\n",
    "processor = transformers.Wav2Vec2Processor.from_pretrained(\"jonatasgrosman/wav2vec2-large-xlsr-53-english\", use_fast=True)\n",
    "model = transformers.AutoModelForAudioClassification.from_pretrained(\"ehcalabres/wav2vec2-lg-xlsr-en-speech-emotion-recognition\").cuda()\n",
    "pred = transformers.pipeline(\"audio-classification\", model=model, tokenizer=processor.tokenizer, feature_extractor=processor.feature_extractor, device=0, return_all_scores=True)"
   ],
   "metadata": {
    "collapsed": false,
    "pycharm": {
     "name": "#%%\n"
    }
   }
  },
  {
   "cell_type": "code",
   "execution_count": null,
   "outputs": [],
   "source": [
    "# pretrained model trying\n",
    "import librosa\n",
    "import torch\n",
    "import glob\n",
    "audios = glob.glob(\"cmumosi/Raw/Audio/WAV_16000/Segmented/*.wav\")[:100]\n",
    "outs = []\n",
    "\n",
    "for a in audios:\n",
    "    try:\n",
    "        speech, rate = librosa.load(a, sr=16000)\n",
    "        speech = torch.Tensor(speech).cuda()\n",
    "        # https://www.analyticsvidhya.com/blog/2021/02/hugging-face-introduces-the-first-automatic-speech-recognition-model-wav2vec2/\n",
    "        input_values = processor(speech, sampling_rate = 16000, return_tensors = 'pt').input_values.cuda()\n",
    "        #features_extracted = processor.feature_extractor(speech)\n",
    "        logits = model(input_values).logits\n",
    "        # https://huggingface.co/docs/transformers/v4.15.0/en/model_doc/wav2vec2#transformers.Wav2Vec2Model\n",
    "        # emotions = ['angry', 'calm', 'disgust', 'fearful', 'happy', 'neutral', 'sad', 'surprised']\n",
    "        # predicted_ids = torch.argmax(logits, dim=-1)\n",
    "        # transcription = emotions[predicted_ids.item()]\n",
    "        # outs.append(transcription)\n",
    "    except RuntimeError:\n",
    "        print(\"rip\") # cuda out of memory for too big\n",
    "    # clean it up tho\n",
    "    del speech\n",
    "    torch.cuda.empty_cache()"
   ],
   "metadata": {
    "collapsed": false,
    "pycharm": {
     "name": "#%%\n"
    }
   }
  }
 ],
 "metadata": {
  "kernelspec": {
   "display_name": "Python 3",
   "language": "python",
   "name": "python3"
  },
  "language_info": {
   "codemirror_mode": {
    "name": "ipython",
    "version": 2
   },
   "file_extension": ".py",
   "mimetype": "text/x-python",
   "name": "python",
   "nbconvert_exporter": "python",
   "pygments_lexer": "ipython2",
   "version": "2.7.6"
  }
 },
 "nbformat": 4,
 "nbformat_minor": 0
}