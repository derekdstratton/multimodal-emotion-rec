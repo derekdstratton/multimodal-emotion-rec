{
 "cells": [
  {
   "cell_type": "code",
   "execution_count": 1,
   "metadata": {
    "collapsed": true
   },
   "outputs": [],
   "source": [
    "MULTIMODAL_SDK_PATH = \"/home/dstratton/PycharmProjects/InterpretableMultimodal/CMU-MultimodalSDK\"\n",
    "import sys\n",
    "sys.path.append(MULTIMODAL_SDK_PATH)"
   ]
  },
  {
   "cell_type": "code",
   "execution_count": 3,
   "outputs": [],
   "source": [
    "import mmsdk\n",
    "from mmsdk import mmdatasdk as md\n",
    "DATASET = md.cmu_mosi\n",
    "DATA_PATH = \"cmumosi\"\n",
    "train_split = DATASET.standard_folds.standard_train_fold\n",
    "dev_split = DATASET.standard_folds.standard_valid_fold\n",
    "test_split = DATASET.standard_folds.standard_test_fold"
   ],
   "metadata": {
    "collapsed": false,
    "pycharm": {
     "name": "#%%\n"
    }
   }
  },
  {
   "cell_type": "code",
   "execution_count": null,
   "outputs": [],
   "source": [
    "from utils import load_dataset\n",
    "data = load_dataset()"
   ],
   "metadata": {
    "collapsed": false,
    "pycharm": {
     "name": "#%%\n",
     "is_executing": true
    }
   }
  },
  {
   "cell_type": "code",
   "execution_count": null,
   "outputs": [],
   "source": [
    "%%capture\n",
    "dataset = md.mmdataset({\n",
    "    'CMU_MOSI_TimestampedWords': DATA_PATH + '/CMU_MOSI_TimestampedWords.csd',\n",
    "    'CMU_MOSI_Opinion_Labels': DATA_PATH + '/CMU_MOSI_Opinion_Labels.csd'\n",
    "})"
   ],
   "metadata": {
    "collapsed": false,
    "pycharm": {
     "name": "#%%\n",
     "is_executing": true
    }
   }
  },
  {
   "cell_type": "code",
   "execution_count": null,
   "outputs": [],
   "source": [
    "%%capture\n",
    "dataset.align('CMU_MOSI_Opinion_Labels')"
   ],
   "metadata": {
    "collapsed": false,
    "pycharm": {
     "name": "#%%\n",
     "is_executing": true
    }
   }
  },
  {
   "cell_type": "code",
   "execution_count": 9,
   "outputs": [],
   "source": [
    "segment_ids = list(dataset['CMU_MOSI_TimestampedWords'].keys())\n",
    "# filter for test set\n",
    "segment_ids = [vid for vid in segment_ids if any(substring in vid for substring in test_split)]"
   ],
   "metadata": {
    "collapsed": false,
    "pycharm": {
     "name": "#%%\n"
    }
   }
  },
  {
   "cell_type": "code",
   "execution_count": 10,
   "outputs": [],
   "source": [
    "# getting data from test set\n",
    "sentences = []\n",
    "labels = []\n",
    "for video_id in segment_ids:\n",
    "    sentence = []\n",
    "    for word in dataset['CMU_MOSI_TimestampedWords'][video_id]['features']:\n",
    "        if word[0] != b'sp':\n",
    "            sentence.append(word[0].decode('utf-8'))\n",
    "    sent = ' '.join(sentence)\n",
    "    sentences.append(sent)\n",
    "    labels.append(dataset['CMU_MOSI_Opinion_Labels'][video_id]['features'][0][0])\n",
    "    # you can also store interval information from dataset['CMU_MOSI_TimestampedWords'][video_id]['intervals'] if needed\n",
    "\n",
    "import pandas as pd\n",
    "text_data = pd.DataFrame({'text': sentences, 'labels': labels})"
   ],
   "metadata": {
    "collapsed": false,
    "pycharm": {
     "name": "#%%\n"
    }
   }
  },
  {
   "cell_type": "code",
   "execution_count": 11,
   "outputs": [],
   "source": [
    "# https://shap.readthedocs.io/en/latest/example_notebooks/text_examples/sentiment_analysis/Emotion%20classification%20multiclass%20example.html\n",
    "import transformers\n",
    "tokenizer = transformers.AutoTokenizer.from_pretrained(\"textattack/bert-base-uncased-imdb\", use_fast=True)\n",
    "model = transformers.AutoModelForSequenceClassification.from_pretrained(\"textattack/bert-base-uncased-imdb\").cuda()\n",
    "pred = transformers.pipeline(\"sentiment-analysis\", model=model, tokenizer=tokenizer, device=0, return_all_scores=True)"
   ],
   "metadata": {
    "collapsed": false,
    "pycharm": {
     "name": "#%%\n"
    }
   }
  },
  {
   "cell_type": "code",
   "execution_count": 12,
   "outputs": [],
   "source": [
    "predictions = pred(list(text_data['text']))"
   ],
   "metadata": {
    "collapsed": false,
    "pycharm": {
     "name": "#%%\n"
    }
   }
  },
  {
   "cell_type": "code",
   "execution_count": 13,
   "outputs": [],
   "source": [
    "import numpy as np\n",
    "# range of 0 to 1\n",
    "sentiment_score = np.array([x[1]['score'] for x in predictions])"
   ],
   "metadata": {
    "collapsed": false,
    "pycharm": {
     "name": "#%%\n"
    }
   }
  },
  {
   "cell_type": "code",
   "execution_count": 14,
   "outputs": [
    {
     "data": {
      "text/plain": "0.7419825072886297"
     },
     "execution_count": 14,
     "metadata": {},
     "output_type": "execute_result"
    }
   ],
   "source": [
    "y_true = np.sign(text_data['labels'])\n",
    "y_true[y_true == 0] = 1 # kinda frequent, which is brutal\n",
    "y_pred = np.sign(sentiment_score - 0.5)\n",
    "df = pd.DataFrame({'y_true': y_true, 'y_pred': y_pred, 'orig_pred': sentiment_score, 'orig_label': text_data['labels']})\n",
    "# binary predictions\n",
    "sum(y_pred == y_true) / len(y_true)\n",
    "# if the failed values are close to 0, then who cares lmao"
   ],
   "metadata": {
    "collapsed": false,
    "pycharm": {
     "name": "#%%\n"
    }
   }
  },
  {
   "cell_type": "code",
   "execution_count": 15,
   "outputs": [
    {
     "data": {
      "text/plain": "1.4871028560707067"
     },
     "execution_count": 15,
     "metadata": {},
     "output_type": "execute_result"
    }
   ],
   "source": [
    "scaled_predictions = (sentiment_score - 0.5) * 6\n",
    "# mean absolute error. bad for the pretrained since pretrained is so bold\n",
    "(scaled_predictions - text_data['labels']).abs().sum() / len(sentiment_score)"
   ],
   "metadata": {
    "collapsed": false,
    "pycharm": {
     "name": "#%%\n"
    }
   }
  },
  {
   "cell_type": "code",
   "execution_count": 16,
   "outputs": [
    {
     "data": {
      "text/plain": "<AxesSubplot:ylabel='Count'>"
     },
     "execution_count": 16,
     "metadata": {},
     "output_type": "execute_result"
    },
    {
     "data": {
      "text/plain": "<Figure size 432x288 with 1 Axes>",
      "image/png": "[encoded data removed]"
     },
     "metadata": {
      "needs_background": "light"
     },
     "output_type": "display_data"
    }
   ],
   "source": [
    "# distribution comparison: the reason MAE is trash\n",
    "import seaborn as sns\n",
    "df_real = pd.DataFrame({'y_true': text_data['labels'], 'y_pred': scaled_predictions})\n",
    "sns.histplot(\n",
    "    data=df_real, multiple='dodge',\n",
    "    bins=np.arange(-3, 3 + 0.5, 0.5))"
   ],
   "metadata": {
    "collapsed": false,
    "pycharm": {
     "name": "#%%\n"
    }
   }
  },
  {
   "cell_type": "code",
   "execution_count": 17,
   "outputs": [],
   "source": [
    "thing = df_real['y_true'] - df_real['y_pred']\n",
    "# this shows how different the vals are, to see where there is a lot of disagreemnt\n",
    "# these are most interesting to put into shap values"
   ],
   "metadata": {
    "collapsed": false,
    "pycharm": {
     "name": "#%%\n"
    }
   }
  },
  {
   "cell_type": "code",
   "execution_count": 23,
   "outputs": [],
   "source": [
    "import shap\n",
    "explainer = shap.Explainer(pred, tokenizer)"
   ],
   "metadata": {
    "collapsed": false,
    "pycharm": {
     "name": "#%%\n"
    }
   }
  },
  {
   "cell_type": "code",
   "execution_count": 33,
   "outputs": [
    {
     "name": "stderr",
     "output_type": "stream",
     "text": [
      "You seem to be using the pipelines sequentially on GPU. In order to maximize efficiency please use a dataset\n"
     ]
    }
   ],
   "source": [
    "# MAKE SURE TO PASS A LIST OR YOU WILL BE SAD, EVEN FOR 1 STRING\n",
    "# shap_values = explainer(list(text_data['text'][0:2]))\n",
    "shap_values = explainer([text_data['text'][4]])"
   ],
   "metadata": {
    "collapsed": false,
    "pycharm": {
     "name": "#%%\n"
    }
   }
  },
  {
   "cell_type": "code",
   "execution_count": 35,
   "outputs": [
    {
     "data": {
      "text/plain": "<IPython.core.display.HTML object>",
      "text/html": "<svg width=\"100%\" height=\"80px\"><line x1=\"0\" y1=\"33\" x2=\"100%\" y2=\"33\" style=\"stroke:rgb(150,150,150);stroke-width:1\" /><line x1=\"8.333333%\" y1=\"33\" x2=\"8.333333%\" y2=\"37\" style=\"stroke:rgb(150,150,150);stroke-width:1\" /><text x=\"8.333333%\" y=\"27\" font-size=\"12px\" fill=\"rgb(120,120,120)\" dominant-baseline=\"bottom\" text-anchor=\"middle\">0.889559</text><text x=\"8.333333%\" y=\"10\" font-size=\"12px\" fill=\"rgb(120,120,120)\" dominant-baseline=\"bottom\" text-anchor=\"middle\">base value</text><line x1=\"22.619048%\" y1=\"33\" x2=\"22.619048%\" y2=\"37\" style=\"stroke:rgb(150,150,150);stroke-width:1\" /><text x=\"22.619048%\" y=\"27\" font-size=\"12px\" fill=\"rgb(120,120,120)\" dominant-baseline=\"bottom\" text-anchor=\"middle\">1.607057</text><line x1=\"36.904762%\" y1=\"33\" x2=\"36.904762%\" y2=\"37\" style=\"stroke:rgb(150,150,150);stroke-width:1\" /><text x=\"36.904762%\" y=\"27\" font-size=\"12px\" fill=\"rgb(120,120,120)\" dominant-baseline=\"bottom\" text-anchor=\"middle\">2.324555</text><line x1=\"51.190476%\" y1=\"33\" x2=\"51.190476%\" y2=\"37\" style=\"stroke:rgb(150,150,150);stroke-width:1\" /><text x=\"51.190476%\" y=\"27\" font-size=\"12px\" fill=\"rgb(120,120,120)\" dominant-baseline=\"bottom\" text-anchor=\"middle\">3.042053</text><line x1=\"65.476190%\" y1=\"33\" x2=\"65.476190%\" y2=\"37\" style=\"stroke:rgb(150,150,150);stroke-width:1\" /><text x=\"65.476190%\" y=\"27\" font-size=\"12px\" fill=\"rgb(120,120,120)\" dominant-baseline=\"bottom\" text-anchor=\"middle\">3.759551</text><line x1=\"79.761905%\" y1=\"33\" x2=\"79.761905%\" y2=\"37\" style=\"stroke:rgb(150,150,150);stroke-width:1\" /><text x=\"79.761905%\" y=\"27\" font-size=\"12px\" fill=\"rgb(120,120,120)\" dominant-baseline=\"bottom\" text-anchor=\"middle\">4.477049</text><line x1=\"91.666667%\" y1=\"33\" x2=\"91.666667%\" y2=\"37\" style=\"stroke:rgb(150,150,150);stroke-width:1\" /><text x=\"91.666667%\" y=\"27\" font-size=\"13px\" style=\"stroke:#ffffff;stroke-width:8px;\" font-weight=\"bold\" fill=\"rgb(255,255,255)\" dominant-baseline=\"bottom\" text-anchor=\"middle\">5.074964</text><text x=\"91.666667%\" y=\"27\" font-size=\"13px\" font-weight=\"bold\" fill=\"rgb(0,0,0)\" dominant-baseline=\"bottom\" text-anchor=\"middle\">5.074964</text><text x=\"91.666667%\" y=\"10\" font-size=\"12px\" fill=\"rgb(120,120,120)\" dominant-baseline=\"bottom\" text-anchor=\"middle\">f(x)</text><rect x=\"8.333333333333316%\" width=\"83.33333333333334%\" y=\"40\" height=\"18\" style=\"fill:rgb(255.0, 0.0, 81.08083606031792); stroke-width:0; stroke:rgb(0,0,0)\" /><line x1=\"48.099404681177944%\" x2=\"91.66666666666666%\" y1=\"60\" y2=\"60\" id=\"_fb_avawnghcvbvrcgknzyfj_ind_2\" style=\"stroke:rgb(255.0, 0.0, 81.08083606031792);stroke-width:2; opacity: 0\"/><text x=\"69.88303567392231%\" y=\"71\" font-size=\"12px\" id=\"_fs_avawnghcvbvrcgknzyfj_ind_2\" fill=\"rgb(255.0, 0.0, 81.08083606031792)\" style=\"opacity: 0\" dominant-baseline=\"middle\" text-anchor=\"middle\">2.188</text><svg x=\"48.099404681177944%\" y=\"40\" height=\"20\" width=\"43.56726198548871%\">  <svg x=\"0\" y=\"0\" width=\"100%\" height=\"100%\">    <text x=\"50%\" y=\"9\" font-size=\"12px\" fill=\"rgb(255,255,255)\" dominant-baseline=\"middle\" text-anchor=\"middle\">brought none of the</text>  </svg></svg><line x1=\"23.29010648567283%\" x2=\"48.099404681177944%\" y1=\"60\" y2=\"60\" id=\"_fb_avawnghcvbvrcgknzyfj_ind_3\" style=\"stroke:rgb(255.0, 0.0, 81.08083606031792);stroke-width:2; opacity: 0\"/><text x=\"35.69475558342539%\" y=\"71\" font-size=\"12px\" id=\"_fs_avawnghcvbvrcgknzyfj_ind_3\" fill=\"rgb(255.0, 0.0, 81.08083606031792)\" style=\"opacity: 0\" dominant-baseline=\"middle\" text-anchor=\"middle\">1.246</text><svg x=\"23.29010648567283%\" y=\"40\" height=\"20\" width=\"24.809298195505114%\">  <svg x=\"0\" y=\"0\" width=\"100%\" height=\"100%\">    <text x=\"50%\" y=\"9\" font-size=\"12px\" fill=\"rgb(255,255,255)\" dominant-baseline=\"middle\" text-anchor=\"middle\">charm that he normally</text>  </svg></svg><line x1=\"13.581234979966247%\" x2=\"23.29010648567283%\" y1=\"60\" y2=\"60\" id=\"_fb_avawnghcvbvrcgknzyfj_ind_1\" style=\"stroke:rgb(255.0, 0.0, 81.08083606031792);stroke-width:2; opacity: 0\"/><text x=\"18.43567073281954%\" y=\"71\" font-size=\"12px\" id=\"_fs_avawnghcvbvrcgknzyfj_ind_1\" fill=\"rgb(255.0, 0.0, 81.08083606031792)\" style=\"opacity: 0\" dominant-baseline=\"middle\" text-anchor=\"middle\">0.488</text><svg x=\"13.581234979966247%\" y=\"40\" height=\"20\" width=\"9.708871505706583%\">  <svg x=\"0\" y=\"0\" width=\"100%\" height=\"100%\">    <text x=\"50%\" y=\"9\" font-size=\"12px\" fill=\"rgb(255,255,255)\" dominant-baseline=\"middle\" text-anchor=\"middle\">but basically seth rogan</text>  </svg></svg><line x1=\"8.333333333333316%\" x2=\"13.581234979966247%\" y1=\"60\" y2=\"60\" id=\"_fb_avawnghcvbvrcgknzyfj_ind_4\" style=\"stroke:rgb(255.0, 0.0, 81.08083606031792);stroke-width:2; opacity: 0\"/><text x=\"10.95728415664978%\" y=\"71\" font-size=\"12px\" id=\"_fs_avawnghcvbvrcgknzyfj_ind_4\" fill=\"rgb(255.0, 0.0, 81.08083606031792)\" style=\"opacity: 0\" dominant-baseline=\"middle\" text-anchor=\"middle\">0.264</text><svg x=\"8.333333333333316%\" y=\"40\" height=\"20\" width=\"5.247901646632931%\">  <svg x=\"0\" y=\"0\" width=\"100%\" height=\"100%\">    <text x=\"50%\" y=\"9\" font-size=\"12px\" fill=\"rgb(255,255,255)\" dominant-baseline=\"middle\" text-anchor=\"middle\">does to his roles</text>  </svg></svg><g transform=\"translate(0,0)\">  <svg x=\"48.099404681177944%\" y=\"40\" height=\"18\" overflow=\"visible\" width=\"30\">    <path d=\"M 0 -9 l 6 18 L 0 25\" fill=\"none\" style=\"stroke:rgb(255.0, 0.0, 81.08083606031792);stroke-width:2\" />  </svg></g><g transform=\"translate(2,0)\">  <svg x=\"48.099404681177944%\" y=\"40\" height=\"18\" overflow=\"visible\" width=\"30\">    <path d=\"M 0 -9 l 6 18 L 0 25\" fill=\"none\" style=\"stroke:rgb(255.0, 0.0, 81.08083606031792);stroke-width:2\" />  </svg></g><g transform=\"translate(4,0)\">  <svg x=\"48.099404681177944%\" y=\"40\" height=\"18\" overflow=\"visible\" width=\"30\">    <path d=\"M 0 -9 l 6 18 L 0 25\" fill=\"none\" style=\"stroke:rgb(255.0, 0.0, 81.08083606031792);stroke-width:2\" />  </svg></g><g transform=\"translate(6,0)\">  <svg x=\"48.099404681177944%\" y=\"40\" height=\"18\" overflow=\"visible\" width=\"30\">    <path d=\"M 0 -9 l 6 18 L 0 25\" fill=\"none\" style=\"stroke:rgb(255.0, 0.0, 81.08083606031792);stroke-width:2\" />  </svg></g><g transform=\"translate(-8,0)\">  <svg x=\"48.099404681177944%\" y=\"40\" height=\"18\" overflow=\"visible\" width=\"30\">    <path d=\"M 0 -9 l 6 18 L 0 25\" fill=\"none\" style=\"stroke:rgb(255.0, 0.0, 81.08083606031792);stroke-width:2\" />  </svg></g><g transform=\"translate(-6,0)\">  <svg x=\"48.099404681177944%\" y=\"40\" height=\"18\" overflow=\"visible\" width=\"30\">    <path d=\"M 0 -9 l 6 18 L 0 25\" fill=\"none\" style=\"stroke:rgb(255.0, 0.0, 81.08083606031792);stroke-width:2\" />  </svg></g><g transform=\"translate(-4,0)\">  <svg x=\"48.099404681177944%\" y=\"40\" height=\"18\" overflow=\"visible\" width=\"30\">    <path d=\"M 0 -9 l 6 18 L 0 25\" fill=\"none\" style=\"stroke:rgb(255.0, 0.0, 81.08083606031792);stroke-width:2\" />  </svg></g><g transform=\"translate(-2,0)\">  <svg x=\"48.099404681177944%\" y=\"40\" height=\"18\" overflow=\"visible\" width=\"30\">    <path d=\"M 0 -9 l 6 18 L 0 25\" fill=\"none\" style=\"stroke:rgb(255.0, 0.0, 81.08083606031792);stroke-width:2\" />  </svg></g><g transform=\"translate(0,0)\">  <svg x=\"23.29010648567283%\" y=\"40\" height=\"18\" overflow=\"visible\" width=\"30\">    <path d=\"M 0 -9 l 6 18 L 0 25\" fill=\"none\" style=\"stroke:rgb(255.0, 0.0, 81.08083606031792);stroke-width:2\" />  </svg></g><g transform=\"translate(2,0)\">  <svg x=\"23.29010648567283%\" y=\"40\" height=\"18\" overflow=\"visible\" width=\"30\">    <path d=\"M 0 -9 l 6 18 L 0 25\" fill=\"none\" style=\"stroke:rgb(255.0, 0.0, 81.08083606031792);stroke-width:2\" />  </svg></g><g transform=\"translate(4,0)\">  <svg x=\"23.29010648567283%\" y=\"40\" height=\"18\" overflow=\"visible\" width=\"30\">    <path d=\"M 0 -9 l 6 18 L 0 25\" fill=\"none\" style=\"stroke:rgb(255.0, 0.0, 81.08083606031792);stroke-width:2\" />  </svg></g><g transform=\"translate(6,0)\">  <svg x=\"23.29010648567283%\" y=\"40\" height=\"18\" overflow=\"visible\" width=\"30\">    <path d=\"M 0 -9 l 6 18 L 0 25\" fill=\"none\" style=\"stroke:rgb(255.0, 0.0, 81.08083606031792);stroke-width:2\" />  </svg></g><g transform=\"translate(-8,0)\">  <svg x=\"23.29010648567283%\" y=\"40\" height=\"18\" overflow=\"visible\" width=\"30\">    <path d=\"M 0 -9 l 6 18 L 0 25\" fill=\"none\" style=\"stroke:rgb(255.0, 0.0, 81.08083606031792);stroke-width:2\" />  </svg></g><g transform=\"translate(-6,0)\">  <svg x=\"23.29010648567283%\" y=\"40\" height=\"18\" overflow=\"visible\" width=\"30\">    <path d=\"M 0 -9 l 6 18 L 0 25\" fill=\"none\" style=\"stroke:rgb(255.0, 0.0, 81.08083606031792);stroke-width:2\" />  </svg></g><g transform=\"translate(-4,0)\">  <svg x=\"23.29010648567283%\" y=\"40\" height=\"18\" overflow=\"visible\" width=\"30\">    <path d=\"M 0 -9 l 6 18 L 0 25\" fill=\"none\" style=\"stroke:rgb(255.0, 0.0, 81.08083606031792);stroke-width:2\" />  </svg></g><g transform=\"translate(-2,0)\">  <svg x=\"23.29010648567283%\" y=\"40\" height=\"18\" overflow=\"visible\" width=\"30\">    <path d=\"M 0 -9 l 6 18 L 0 25\" fill=\"none\" style=\"stroke:rgb(255.0, 0.0, 81.08083606031792);stroke-width:2\" />  </svg></g><g transform=\"translate(0,0)\">  <svg x=\"13.581234979966247%\" y=\"40\" height=\"18\" overflow=\"visible\" width=\"30\">    <path d=\"M 0 -9 l 6 18 L 0 25\" fill=\"none\" style=\"stroke:rgb(255.0, 0.0, 81.08083606031792);stroke-width:2\" />  </svg></g><g transform=\"translate(2,0)\">  <svg x=\"13.581234979966247%\" y=\"40\" height=\"18\" overflow=\"visible\" width=\"30\">    <path d=\"M 0 -9 l 6 18 L 0 25\" fill=\"none\" style=\"stroke:rgb(255.0, 0.0, 81.08083606031792);stroke-width:2\" />  </svg></g><g transform=\"translate(4,0)\">  <svg x=\"13.581234979966247%\" y=\"40\" height=\"18\" overflow=\"visible\" width=\"30\">    <path d=\"M 0 -9 l 6 18 L 0 25\" fill=\"none\" style=\"stroke:rgb(255.0, 0.0, 81.08083606031792);stroke-width:2\" />  </svg></g><g transform=\"translate(6,0)\">  <svg x=\"13.581234979966247%\" y=\"40\" height=\"18\" overflow=\"visible\" width=\"30\">    <path d=\"M 0 -9 l 6 18 L 0 25\" fill=\"none\" style=\"stroke:rgb(255.0, 0.0, 81.08083606031792);stroke-width:2\" />  </svg></g><g transform=\"translate(-8,0)\">  <svg x=\"13.581234979966247%\" y=\"40\" height=\"18\" overflow=\"visible\" width=\"30\">    <path d=\"M 0 -9 l 6 18 L 0 25\" fill=\"none\" style=\"stroke:rgb(255.0, 0.0, 81.08083606031792);stroke-width:2\" />  </svg></g><g transform=\"translate(-6,0)\">  <svg x=\"13.581234979966247%\" y=\"40\" height=\"18\" overflow=\"visible\" width=\"30\">    <path d=\"M 0 -9 l 6 18 L 0 25\" fill=\"none\" style=\"stroke:rgb(255.0, 0.0, 81.08083606031792);stroke-width:2\" />  </svg></g><g transform=\"translate(-4,0)\">  <svg x=\"13.581234979966247%\" y=\"40\" height=\"18\" overflow=\"visible\" width=\"30\">    <path d=\"M 0 -9 l 6 18 L 0 25\" fill=\"none\" style=\"stroke:rgb(255.0, 0.0, 81.08083606031792);stroke-width:2\" />  </svg></g><g transform=\"translate(-2,0)\">  <svg x=\"13.581234979966247%\" y=\"40\" height=\"18\" overflow=\"visible\" width=\"30\">    <path d=\"M 0 -9 l 6 18 L 0 25\" fill=\"none\" style=\"stroke:rgb(255.0, 0.0, 81.08083606031792);stroke-width:2\" />  </svg></g><rect transform=\"translate(-8,0)\" x=\"91.66666666666666%\" y=\"40\" width=\"8\" height=\"18\" style=\"fill:rgb(255.0, 0.0, 81.08083606031792)\"/><g transform=\"translate(-11.5,0)\">  <svg x=\"8.333333333333316%\" y=\"40\" height=\"18\" overflow=\"visible\" width=\"30\">    <path d=\"M 10 -9 l 6 18 L 10 25 L 0 25 L 0 -9\" fill=\"#ffffff\" style=\"stroke:rgb(255,255,255);stroke-width:2\" />  </svg></g><g transform=\"translate(-1.5,0)\">  <svg x=\"91.66666666666666%\" y=\"40\" height=\"18\" overflow=\"visible\" width=\"30\">    <path d=\"M 0 -9 l 6 18 L 0 25\" fill=\"none\" style=\"stroke:rgb(255, 195, 213);stroke-width:2\" />  </svg></g><rect x=\"48.099404681177944%\" y=\"40\" height=\"20\" width=\"43.56726198548871%\"      onmouseover=\"document.getElementById('_tp_avawnghcvbvrcgknzyfj_ind_2').style.textDecoration = 'underline';document.getElementById('_fs_avawnghcvbvrcgknzyfj_ind_2').style.opacity = 1;document.getElementById('_fb_avawnghcvbvrcgknzyfj_ind_2').style.opacity = 1;\"      onmouseout=\"document.getElementById('_tp_avawnghcvbvrcgknzyfj_ind_2').style.textDecoration = 'none';document.getElementById('_fs_avawnghcvbvrcgknzyfj_ind_2').style.opacity = 0;document.getElementById('_fb_avawnghcvbvrcgknzyfj_ind_2').style.opacity = 0;\" style=\"fill:rgb(0,0,0,0)\" /><g transform=\"translate(-1.5,0)\">  <svg x=\"48.099404681177944%\" y=\"40\" height=\"18\" overflow=\"visible\" width=\"30\">    <path d=\"M 0 -9 l 6 18 L 0 25\" fill=\"none\" style=\"stroke:rgb(255, 195, 213);stroke-width:2\" />  </svg></g><rect x=\"23.29010648567283%\" y=\"40\" height=\"20\" width=\"24.809298195505114%\"      onmouseover=\"document.getElementById('_tp_avawnghcvbvrcgknzyfj_ind_3').style.textDecoration = 'underline';document.getElementById('_fs_avawnghcvbvrcgknzyfj_ind_3').style.opacity = 1;document.getElementById('_fb_avawnghcvbvrcgknzyfj_ind_3').style.opacity = 1;\"      onmouseout=\"document.getElementById('_tp_avawnghcvbvrcgknzyfj_ind_3').style.textDecoration = 'none';document.getElementById('_fs_avawnghcvbvrcgknzyfj_ind_3').style.opacity = 0;document.getElementById('_fb_avawnghcvbvrcgknzyfj_ind_3').style.opacity = 0;\" style=\"fill:rgb(0,0,0,0)\" /><g transform=\"translate(-1.5,0)\">  <svg x=\"23.29010648567283%\" y=\"40\" height=\"18\" overflow=\"visible\" width=\"30\">    <path d=\"M 0 -9 l 6 18 L 0 25\" fill=\"none\" style=\"stroke:rgb(255, 195, 213);stroke-width:2\" />  </svg></g><rect x=\"13.581234979966247%\" y=\"40\" height=\"20\" width=\"9.708871505706583%\"      onmouseover=\"document.getElementById('_tp_avawnghcvbvrcgknzyfj_ind_1').style.textDecoration = 'underline';document.getElementById('_fs_avawnghcvbvrcgknzyfj_ind_1').style.opacity = 1;document.getElementById('_fb_avawnghcvbvrcgknzyfj_ind_1').style.opacity = 1;\"      onmouseout=\"document.getElementById('_tp_avawnghcvbvrcgknzyfj_ind_1').style.textDecoration = 'none';document.getElementById('_fs_avawnghcvbvrcgknzyfj_ind_1').style.opacity = 0;document.getElementById('_fb_avawnghcvbvrcgknzyfj_ind_1').style.opacity = 0;\" style=\"fill:rgb(0,0,0,0)\" /><rect x=\"8.333333333333316%\" y=\"40\" height=\"20\" width=\"5.247901646632931%\"      onmouseover=\"document.getElementById('_tp_avawnghcvbvrcgknzyfj_ind_4').style.textDecoration = 'underline';document.getElementById('_fs_avawnghcvbvrcgknzyfj_ind_4').style.opacity = 1;document.getElementById('_fb_avawnghcvbvrcgknzyfj_ind_4').style.opacity = 1;\"      onmouseout=\"document.getElementById('_tp_avawnghcvbvrcgknzyfj_ind_4').style.textDecoration = 'none';document.getElementById('_fs_avawnghcvbvrcgknzyfj_ind_4').style.opacity = 0;document.getElementById('_fb_avawnghcvbvrcgknzyfj_ind_4').style.opacity = 0;\" style=\"fill:rgb(0,0,0,0)\" /><rect x=\"91.66666666666666%\" width=\"-0.0%\" y=\"40\" height=\"18\" style=\"fill:rgb(0.0, 138.56128015770724, 250.76166088685727); stroke-width:0; stroke:rgb(0,0,0)\" /><rect transform=\"translate(0,0)\" x=\"91.66666666666666%\" y=\"40\" width=\"8\" height=\"18\" style=\"fill:rgb(0.0, 138.56128015770724, 250.76166088685727)\"/><g transform=\"translate(-6.0,0)\">  <svg x=\"91.66666666666666%\" y=\"40\" height=\"18\" overflow=\"visible\" width=\"30\">    <path d=\"M 8 -9 l -6 18 L 8 25 L 20 25 L 20 -9\" fill=\"#ffffff\" style=\"stroke:rgb(255,255,255);stroke-width:2\" />  </svg></g></svg><div style='display: inline; text-align: center;'><div style='display: none; color: #999; padding-top: 0px; font-size: 12px;'>0.0</div><div id='_tp_avawnghcvbvrcgknzyfj_ind_0'style='display: inline; background: rgba(230.2941176470614, 26.505882352939775, 102.59215686274348, 0.0); border-radius: 3px; padding: 0px'onclick=\"if (this.previousSibling.style.display == 'none') {this.previousSibling.style.display = 'block';this.parentNode.style.display = 'inline-block';} else {this.previousSibling.style.display = 'none';this.parentNode.style.display = 'inline';}\"onmouseover=\"document.getElementById('_fb_avawnghcvbvrcgknzyfj_ind_0').style.opacity = 1; document.getElementById('_fs_avawnghcvbvrcgknzyfj_ind_0').style.opacity = 1;\"onmouseout=\"document.getElementById('_fb_avawnghcvbvrcgknzyfj_ind_0').style.opacity = 0; document.getElementById('_fs_avawnghcvbvrcgknzyfj_ind_0').style.opacity = 0;\"></div></div><div style='display: inline; text-align: center;'><div style='display: none; color: #999; padding-top: 0px; font-size: 12px;'>0.488 / 5</div><div id='_tp_avawnghcvbvrcgknzyfj_ind_1'style='display: inline; background: rgba(255.0, 13.0, 87.0, 0.7950485244602892); border-radius: 3px; padding: 0px'onclick=\"if (this.previousSibling.style.display == 'none') {this.previousSibling.style.display = 'block';this.parentNode.style.display = 'inline-block';} else {this.previousSibling.style.display = 'none';this.parentNode.style.display = 'inline';}\"onmouseover=\"document.getElementById('_fb_avawnghcvbvrcgknzyfj_ind_1').style.opacity = 1; document.getElementById('_fs_avawnghcvbvrcgknzyfj_ind_1').style.opacity = 1;\"onmouseout=\"document.getElementById('_fb_avawnghcvbvrcgknzyfj_ind_1').style.opacity = 0; document.getElementById('_fs_avawnghcvbvrcgknzyfj_ind_1').style.opacity = 0;\">but basically seth rogan </div></div><div style='display: inline; text-align: center;'><div style='display: none; color: #999; padding-top: 0px; font-size: 12px;'>2.188 / 4</div><div id='_tp_avawnghcvbvrcgknzyfj_ind_2'style='display: inline; background: rgba(255.0, 13.0, 87.0, 1.0); border-radius: 3px; padding: 0px'onclick=\"if (this.previousSibling.style.display == 'none') {this.previousSibling.style.display = 'block';this.parentNode.style.display = 'inline-block';} else {this.previousSibling.style.display = 'none';this.parentNode.style.display = 'inline';}\"onmouseover=\"document.getElementById('_fb_avawnghcvbvrcgknzyfj_ind_2').style.opacity = 1; document.getElementById('_fs_avawnghcvbvrcgknzyfj_ind_2').style.opacity = 1;\"onmouseout=\"document.getElementById('_fb_avawnghcvbvrcgknzyfj_ind_2').style.opacity = 0; document.getElementById('_fs_avawnghcvbvrcgknzyfj_ind_2').style.opacity = 0;\">brought none of the </div></div><div style='display: inline; text-align: center;'><div style='display: none; color: #999; padding-top: 0px; font-size: 12px;'>1.246 / 4</div><div id='_tp_avawnghcvbvrcgknzyfj_ind_3'style='display: inline; background: rgba(255.0, 13.0, 87.0, 1.0); border-radius: 3px; padding: 0px'onclick=\"if (this.previousSibling.style.display == 'none') {this.previousSibling.style.display = 'block';this.parentNode.style.display = 'inline-block';} else {this.previousSibling.style.display = 'none';this.parentNode.style.display = 'inline';}\"onmouseover=\"document.getElementById('_fb_avawnghcvbvrcgknzyfj_ind_3').style.opacity = 1; document.getElementById('_fs_avawnghcvbvrcgknzyfj_ind_3').style.opacity = 1;\"onmouseout=\"document.getElementById('_fb_avawnghcvbvrcgknzyfj_ind_3').style.opacity = 0; document.getElementById('_fs_avawnghcvbvrcgknzyfj_ind_3').style.opacity = 0;\">charm that he normally </div></div><div style='display: inline; text-align: center;'><div style='display: none; color: #999; padding-top: 0px; font-size: 12px;'>0.264 / 4</div><div id='_tp_avawnghcvbvrcgknzyfj_ind_4'style='display: inline; background: rgba(255.0, 13.0, 87.0, 0.4245593186769657); border-radius: 3px; padding: 0px'onclick=\"if (this.previousSibling.style.display == 'none') {this.previousSibling.style.display = 'block';this.parentNode.style.display = 'inline-block';} else {this.previousSibling.style.display = 'none';this.parentNode.style.display = 'inline';}\"onmouseover=\"document.getElementById('_fb_avawnghcvbvrcgknzyfj_ind_4').style.opacity = 1; document.getElementById('_fs_avawnghcvbvrcgknzyfj_ind_4').style.opacity = 1;\"onmouseout=\"document.getElementById('_fb_avawnghcvbvrcgknzyfj_ind_4').style.opacity = 0; document.getElementById('_fs_avawnghcvbvrcgknzyfj_ind_4').style.opacity = 0;\">does to his roles</div></div><div style='display: inline; text-align: center;'><div style='display: none; color: #999; padding-top: 0px; font-size: 12px;'>0.0</div><div id='_tp_avawnghcvbvrcgknzyfj_ind_5'style='display: inline; background: rgba(230.2941176470614, 26.505882352939775, 102.59215686274348, 0.0); border-radius: 3px; padding: 0px'onclick=\"if (this.previousSibling.style.display == 'none') {this.previousSibling.style.display = 'block';this.parentNode.style.display = 'inline-block';} else {this.previousSibling.style.display = 'none';this.parentNode.style.display = 'inline';}\"onmouseover=\"document.getElementById('_fb_avawnghcvbvrcgknzyfj_ind_5').style.opacity = 1; document.getElementById('_fs_avawnghcvbvrcgknzyfj_ind_5').style.opacity = 1;\"onmouseout=\"document.getElementById('_fb_avawnghcvbvrcgknzyfj_ind_5').style.opacity = 0; document.getElementById('_fs_avawnghcvbvrcgknzyfj_ind_5').style.opacity = 0;\"></div></div>"
     },
     "metadata": {},
     "output_type": "display_data"
    }
   ],
   "source": [
    "import shap.plots\n",
    "shap.plots.text(shap_values[0,:,'LABEL_0'])"
   ],
   "metadata": {
    "collapsed": false,
    "pycharm": {
     "name": "#%%\n"
    }
   }
  }
 ],
 "metadata": {
  "kernelspec": {
   "display_name": "Python 3",
   "language": "python",
   "name": "python3"
  },
  "language_info": {
   "codemirror_mode": {
    "name": "ipython",
    "version": 2
   },
   "file_extension": ".py",
   "mimetype": "text/x-python",
   "name": "python",
   "nbconvert_exporter": "python",
   "pygments_lexer": "ipython2",
   "version": "2.7.6"
  }
 },
 "nbformat": 4,
 "nbformat_minor": 0
}