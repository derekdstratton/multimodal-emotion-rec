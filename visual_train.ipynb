{
 "cells": [
  {
   "cell_type": "code",
   "execution_count": 8,
   "metadata": {
    "collapsed": true
   },
   "outputs": [],
   "source": [
    "import torch\n",
    "d_model = 1 # number of features for a single \"token\"\n",
    "model = torch.nn.Transformer(d_model=d_model, nhead=1)"
   ]
  },
  {
   "cell_type": "code",
   "execution_count": 2,
   "outputs": [
    {
     "data": {
      "text/plain": "tensor([[[-3.4650e-11]]], grad_fn=<NativeLayerNormBackward0>)"
     },
     "execution_count": 2,
     "metadata": {},
     "output_type": "execute_result"
    }
   ],
   "source": [
    "src = torch.Tensor([1,2,3,4]).reshape((4,1,d_model))\n",
    "tgt = torch.Tensor([1]).reshape((1,1,d_model))\n",
    "model(src, tgt)"
   ],
   "metadata": {
    "collapsed": false,
    "pycharm": {
     "name": "#%%\n"
    }
   }
  },
  {
   "cell_type": "code",
   "execution_count": null,
   "outputs": [],
   "source": [
    "from utils import load_dataset\n",
    "mosi = load_dataset([\"CMU_MOSI_Visual_Facet_41\"])"
   ],
   "metadata": {
    "collapsed": false,
    "pycharm": {
     "name": "#%%\n",
     "is_executing": true
    }
   }
  },
  {
   "cell_type": "code",
   "execution_count": 2,
   "outputs": [],
   "source": [
    "import torch\n",
    "train_loader = torch.utils.data.DataLoader(mosi['train'], batch_size=32)\n",
    "val_loader = torch.utils.data.DataLoader(mosi['val'], batch_size=32)\n",
    "test_loader = torch.utils.data.DataLoader(mosi['test'], batch_size=32)"
   ],
   "metadata": {
    "collapsed": false,
    "pycharm": {
     "name": "#%%\n"
    }
   }
  },
  {
   "cell_type": "code",
   "execution_count": 232,
   "outputs": [],
   "source": [
    "# model = torch.nn.Sequential(\n",
    "#     torch.nn.Linear(len(mosi['train'].features)-1, 1, dtype=torch.float64)\n",
    "# )\n",
    "model = torch.nn.Sequential(\n",
    "    torch.nn.Linear(len(mosi['train'].features)-1, 16, dtype=torch.float64),\n",
    "    torch.nn.ReLU(),\n",
    "    torch.nn.Linear(16, 1, dtype=torch.float64)\n",
    ")\n",
    "model.to('cuda')\n",
    "optim = torch.optim.Adam(model.parameters(), lr=0.001)\n",
    "criterion = torch.nn.BCEWithLogitsLoss()"
   ],
   "metadata": {
    "collapsed": false,
    "pycharm": {
     "name": "#%%\n"
    }
   }
  },
  {
   "cell_type": "code",
   "execution_count": 233,
   "outputs": [
    {
     "name": "stdout",
     "output_type": "stream",
     "text": [
      "train loss 210.0266579382792 test loss 7.339679558707214\n",
      "train loss 38.994797073727725 test loss 5.727442951995026\n",
      "train loss 33.256383893024115 test loss 5.394704013139565\n",
      "train loss 30.468844588557342 test loss 5.302394629501158\n",
      "train loss 29.62120926444044 test loss 5.301207868709268\n",
      "train loss 29.36236143777322 test loss 5.299933918402687\n",
      "train loss 29.133164904069538 test loss 5.295820318891421\n",
      "train loss 28.96052734712282 test loss 5.295522448678686\n",
      "train loss 28.830065119448058 test loss 5.298278784327177\n",
      "train loss 28.740948224803955 test loss 5.300905009389284\n"
     ]
    }
   ],
   "source": [
    "for epoch in range(10):\n",
    "    running_loss = 0\n",
    "    running_loss_test = 0\n",
    "    model.train()\n",
    "    for i, batch in enumerate(train_loader):\n",
    "        optim.zero_grad()\n",
    "\n",
    "        x = [v for (k,v) in batch.items() if k != \"labels\"]\n",
    "        x2 = torch.stack(x)\n",
    "        x2 = x2.transpose(1,0)\n",
    "        x2 = x2.to('cuda')\n",
    "\n",
    "        y_true = batch['labels']\n",
    "        y_true = y_true.reshape(len(y_true), 1)\n",
    "        y_true = y_true.double()\n",
    "        y_true = y_true.to('cuda')\n",
    "\n",
    "        y_pred = model(x2)\n",
    "\n",
    "        loss = criterion(y_pred, y_true)\n",
    "        loss.backward()\n",
    "        optim.step()\n",
    "\n",
    "        running_loss += loss.item()\n",
    "    model.eval()\n",
    "    for i, batch in enumerate(val_loader):\n",
    "        x = [v for (k,v) in batch.items() if k != \"labels\"]\n",
    "        x2 = torch.stack(x)\n",
    "        x2 = x2.transpose(1,0)\n",
    "        x2 = x2.to('cuda')\n",
    "\n",
    "        y_true = batch['labels']\n",
    "        y_true = y_true.reshape(len(y_true), 1)\n",
    "        y_true = y_true.double()\n",
    "        y_true = y_true.to('cuda')\n",
    "\n",
    "        y_pred = model(x2)\n",
    "\n",
    "        loss = criterion(y_pred, y_true)\n",
    "        running_loss_test += loss.item()\n",
    "    print(\"train loss\", running_loss, \"test loss\", running_loss_test)"
   ],
   "metadata": {
    "collapsed": false,
    "pycharm": {
     "name": "#%%\n"
    }
   }
  },
  {
   "cell_type": "code",
   "execution_count": 234,
   "outputs": [
    {
     "name": "stdout",
     "output_type": "stream",
     "text": [
      "0.5743440233236151\n"
     ]
    }
   ],
   "source": [
    "model.eval()\n",
    "corrects = 0\n",
    "total = 0\n",
    "for i, batch in enumerate(test_loader):\n",
    "    x = [v for (k,v) in batch.items() if k != \"labels\"]\n",
    "    x2 = torch.stack(x)\n",
    "    x2 = x2.transpose(1,0)\n",
    "    x2 = x2.to('cuda')\n",
    "\n",
    "    y_true = batch['labels']\n",
    "    y_true = y_true.reshape(len(y_true), 1)\n",
    "    y_true = y_true.to('cuda')\n",
    "\n",
    "    y_pred = torch.sigmoid(model(x2))\n",
    "    y_pred = y_pred.round()\n",
    "\n",
    "    results = y_true == y_pred\n",
    "    corrects += sum(results).item()\n",
    "    total += len(results)\n",
    "print(corrects / total)"
   ],
   "metadata": {
    "collapsed": false,
    "pycharm": {
     "name": "#%%\n"
    }
   }
  },
  {
   "cell_type": "code",
   "execution_count": 235,
   "outputs": [],
   "source": [
    "import shap\n",
    "import shap.plots\n",
    "omg = mosi['train'].remove_columns('labels').to_pandas()\n",
    "omg2 = torch.Tensor(omg.to_numpy())\n",
    "\n",
    "# https://shap.readthedocs.io/en/latest/example_notebooks/tabular_examples/neural_networks/Census%20income%20classification%20with%20Keras.html\n",
    "# \"SHAP expects model functions to take a 2D numpy array as input, so we define a wrapper function around the original Keras predict function.\"\n",
    "def f(X):\n",
    "    X2 = torch.Tensor(X)\n",
    "    X2 = X2.to('cuda')\n",
    "    X2 = X2.double()\n",
    "    return model(X2).cpu().detach().numpy()\n",
    "\n",
    "feat_names = [t for t in mosi['train'].features if t != \"labels\"]\n",
    "\n",
    "explainer = shap.Explainer(f, omg.to_numpy(), feature_names=feat_names)\n",
    "# explainer = shap.AdditiveExplainer(f, omg.to_numpy(), feature_names=feat_names)"
   ],
   "metadata": {
    "collapsed": false,
    "pycharm": {
     "name": "#%%\n"
    }
   }
  },
  {
   "cell_type": "code",
   "execution_count": 236,
   "outputs": [
    {
     "name": "stdout",
     "output_type": "stream",
     "text": [
      "tensor([[-0.3070],\n",
      "        [-0.1565],\n",
      "        [-0.2461],\n",
      "        [-0.1872],\n",
      "        [-0.4271],\n",
      "        [-0.3743],\n",
      "        [-0.3279],\n",
      "        [-0.2780],\n",
      "        [-0.3396],\n",
      "        [-0.3806],\n",
      "        [-0.4228],\n",
      "        [-0.4355],\n",
      "        [-0.4599],\n",
      "        [-0.3939],\n",
      "        [-0.2996],\n",
      "        [-0.5622],\n",
      "        [-0.4618],\n",
      "        [-0.6052],\n",
      "        [-0.4386],\n",
      "        [-0.5838],\n",
      "        [-0.4661],\n",
      "        [-0.6247],\n",
      "        [-0.6096],\n",
      "        [-0.6468],\n",
      "        [-0.6773],\n",
      "        [-0.6285],\n",
      "        [-0.5889],\n",
      "        [-0.4877],\n",
      "        [-0.5257],\n",
      "        [-0.6412],\n",
      "        [-0.6710],\n",
      "        [-0.6400]], device='cuda:0', dtype=torch.float64,\n",
      "       grad_fn=<AddmmBackward0>)\n"
     ]
    }
   ],
   "source": [
    "x = [v for (k,v) in next(iter(test_loader)).items() if k != \"labels\"]\n",
    "x2 = torch.stack(x)\n",
    "x2 = x2.transpose(1,0)\n",
    "x2 = x2.to('cuda')\n",
    "print(model(x2))"
   ],
   "metadata": {
    "collapsed": false,
    "pycharm": {
     "name": "#%%\n"
    }
   }
  },
  {
   "cell_type": "code",
   "execution_count": 237,
   "outputs": [],
   "source": [
    "sample = x2[0]\n",
    "# shap_values = explainer(omg.to_numpy())\n",
    "shap_values = explainer(sample.reshape(1, len(sample)).cpu().numpy())"
   ],
   "metadata": {
    "collapsed": false,
    "pycharm": {
     "name": "#%%\n"
    }
   }
  },
  {
   "cell_type": "code",
   "execution_count": 238,
   "outputs": [
    {
     "name": "stdout",
     "output_type": "stream",
     "text": [
      "tensor([-0.3070], device='cuda:0', dtype=torch.float64, grad_fn=<AddBackward0>)\n"
     ]
    },
    {
     "data": {
      "text/plain": "<Figure size 576x468 with 1 Axes>",
      "image/png": "[encoded data removed]"
     },
     "metadata": {},
     "output_type": "display_data"
    }
   ],
   "source": [
    "print(model(sample))\n",
    "\n",
    "# PERMUTATION EXPLAINER\n",
    "shap.plots.bar(shap_values[0,:])\n",
    "\n",
    "# ADDITIVE EXPLAINER\n",
    "# shap.plots.bar(shap_values[0,:,0])\n",
    "# shap.plots.waterfall(shap_values[0,:,0])"
   ],
   "metadata": {
    "collapsed": false,
    "pycharm": {
     "name": "#%%\n"
    }
   }
  }
 ],
 "metadata": {
  "kernelspec": {
   "display_name": "Python 3",
   "language": "python",
   "name": "python3"
  },
  "language_info": {
   "codemirror_mode": {
    "name": "ipython",
    "version": 2
   },
   "file_extension": ".py",
   "mimetype": "text/x-python",
   "name": "python",
   "nbconvert_exporter": "python",
   "pygments_lexer": "ipython2",
   "version": "2.7.6"
  }
 },
 "nbformat": 4,
 "nbformat_minor": 0
}